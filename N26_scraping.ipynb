{
 "cells": [
  {
   "cell_type": "code",
   "execution_count": 131,
   "metadata": {},
   "outputs": [],
   "source": [
    "import requests\n",
    "from requests import get\n",
    "from bs4 import BeautifulSoup\n",
    "import numpy as np\n",
    "import csv\n",
    "import requests"
   ]
  },
  {
   "cell_type": "code",
   "execution_count": 194,
   "metadata": {},
   "outputs": [],
   "source": [
    "supported_languages = ['de-at', 'en-at', 'de-de', 'en-de', 'es-es', 'en-es', 'en-eu', 'fr-fr', 'en-fr', 'it-it', 'en-it', 'en-us', 'en-gb']\n",
    "source_page = 'https://support.n26.com'"
   ]
  },
  {
   "cell_type": "code",
   "execution_count": 192,
   "metadata": {},
   "outputs": [],
   "source": [
    "urls = []\n",
    "markets = []\n",
    "\n",
    "# Scrapping of all categories pages urls\n",
    "for lang in supported_languages:\n",
    "    url_source = source_page +'/'+ lang \n",
    "    page = requests.get(url_source)\n",
    "    soup = BeautifulSoup(page.content, 'lxml')\n",
    "    for link in soup.find_all('a', class_=['np', 'nq', 'nr', 'ns', 'nt', 'nu', 'x']):\n",
    "        link = source_page + link.get('href')\n",
    "        urls.append(link)\n",
    "        markets.append(lang)\n",
    "        "
   ]
  },
  {
   "cell_type": "code",
   "execution_count": 201,
   "metadata": {},
   "outputs": [],
   "source": [
    "# Class for Q&A questions links on categories pages\n",
    "class_= 'ba bb bc bd be bf bg bh bj bk bl bm bn bq ca cb cc cd ce g hm jv jw jx jy jz ka nc w'\n",
    "class_ = class_.replace(' ','.')\n",
    "count = 0\n",
    "\n",
    "# Writing of CSV file with all Q&A urls for every supported language \n",
    "with open('ulrs_by_market_n26.csv', 'w', newline='') as csvfile:\n",
    "    fieldnames = ['', 'url', 'market']\n",
    "    writer = csv.DictWriter(csvfile, fieldnames=fieldnames)\n",
    "    writer.writeheader()\n",
    "    for j in range(len(urls)) :\n",
    "        page = requests.get(urls[j])\n",
    "        soup = BeautifulSoup(page.content, 'lxml')\n",
    "        for link in soup.select('a.'+class_):\n",
    "            writer.writerow({'':count, 'url':source_page+link.get('href'), 'market':markets[j]})\n",
    "            count += 1\n"
   ]
  },
  {
   "cell_type": "code",
   "execution_count": 249,
   "metadata": {},
   "outputs": [],
   "source": [
    "\n",
    "scraped_question = {}\n",
    "\n",
    "# We open the csv file generated above, repertory of all question URL, question ID and extracted texts \n",
    "\n",
    "count = 0\n",
    "count_FAQ = 0\n",
    "question_market='fr-fr'\n",
    "with open('scraped_n26.csv','w', newline='') as writecsv:\n",
    "    fieldnames = ['ID', 'FAQ_id', 'locale', 'market', 'question', 'answer']\n",
    "    writer = csv.DictWriter(writecsv, fieldnames=fieldnames)\n",
    "    writer.writeheader()\n",
    "    with open('ulrs_by_market_n26.csv', newline='') as csvfile:\n",
    "        reader = csv.DictReader(csvfile)\n",
    "        for row in reader:\n",
    "            if row['market'] != question_market:\n",
    "                count_FAQ = 0\n",
    "            question_url = row['url'] \n",
    "            question_market = row['market']\n",
    "            page = requests.get(question_url)\n",
    "            soup = BeautifulSoup(page.content, 'lxml')\n",
    "            question_text = soup.find('div', id=\"main\")\n",
    "            if question_text == None : \n",
    "                print(question_url )\n",
    "            question = question_text.find('h1').text\n",
    "            question_text.find('h1').decompose()\n",
    "            answer = question_text.get_text(separator=' ')\n",
    "            writer.writerow({'ID':count, 'FAQ_id' : count_FAQ , 'locale' : question_market[-2:], 'market' : question_market, 'question':question , 'answer' :answer})\n",
    "            count += 1\n",
    "            count_FAQ += 1\n"
   ]
  },
  {
   "cell_type": "code",
   "execution_count": null,
   "metadata": {},
   "outputs": [],
   "source": []
  }
 ],
 "metadata": {
  "kernelspec": {
   "display_name": "Python 3",
   "language": "python",
   "name": "python3"
  },
  "language_info": {
   "codemirror_mode": {
    "name": "ipython",
    "version": 3
   },
   "file_extension": ".py",
   "mimetype": "text/x-python",
   "name": "python",
   "nbconvert_exporter": "python",
   "pygments_lexer": "ipython3",
   "version": "3.7.3"
  }
 },
 "nbformat": 4,
 "nbformat_minor": 2
}
